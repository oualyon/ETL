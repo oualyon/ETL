{
 "cells": [
  {
   "cell_type": "markdown",
   "metadata": {},
   "source": [
    "# ETL OUALYON"
   ]
  },
  {
   "cell_type": "code",
   "execution_count": 134,
   "metadata": {},
   "outputs": [],
   "source": [
    "import pandas as pd\n",
    "import requests as rq\n",
    "import json\n",
    "import re\n",
    "import MapCategory as CategoryMap\n",
    "import MapFiltreLyon as FiltreLyonMap"
   ]
  },
  {
   "cell_type": "code",
   "execution_count": 135,
   "metadata": {},
   "outputs": [],
   "source": [
    "dataframe = pd.DataFrame(columns=['Nom', 'Commune','Adresse','Code postal','Type','Coord_X', 'Coord_Y'])"
   ]
  },
  {
   "cell_type": "markdown",
   "metadata": {},
   "source": [
    "#### Import de Sport Gouv"
   ]
  },
  {
   "cell_type": "code",
   "execution_count": 136,
   "metadata": {},
   "outputs": [],
   "source": [
    "response = rq.get(\"https://equipements.sports.gouv.fr/api/records/1.0/search/?dataset=data-es&q=&refine.code_dept=69&rows=10000&facet=adresse\")\n",
    "data = response.json()\n",
    "for record in data['records']:\n",
    "    rc = record['fields']\n",
    "    if 'adresse' in rc:\n",
    "        record_adresse = rc['adresse']\n",
    "    else:\n",
    "        record_adresse = str(rc['coordgpsy']) + '° N, ' + str(rc['coordgpsx']) + '° E'\n",
    "    dataframe.loc[len(dataframe.index)] = [rc['nominstallation'],rc['nom_commune'],record_adresse,rc['codepostal'],rc['typequipement'],rc['coordgpsx'],rc['coordgpsy']]"
   ]
  },
  {
   "cell_type": "markdown",
   "metadata": {},
   "source": [
    "#### Import de Data Grand Lyon"
   ]
  },
  {
   "cell_type": "code",
   "execution_count": 137,
   "metadata": {},
   "outputs": [],
   "source": [
    "response = rq.get(\"https://download.data.grandlyon.com/ws/rdata/urbalyon.recenseqptsport/all.json?maxfeatures=10000&start=1\")\n",
    "data = response.json()\n",
    "for record in data['values']: \n",
    "    if 'InsAdresse' in record['installation_details']:\n",
    "        record_adresse = record['installation_details']['InsAdresse']\n",
    "    else:\n",
    "        record_adresse = str(record['lat']) + '° N, ' + str(record['lon']) + '° E'\n",
    "    dataframe.loc[len(dataframe.index)] = [record['nom'],record['commune'],record_adresse,record['installation_details']['InsCodePostal'],record['type'],record['lon'],record['lat']]"
   ]
  },
  {
   "cell_type": "code",
   "execution_count": 138,
   "metadata": {},
   "outputs": [],
   "source": [
    "# dataframe"
   ]
  },
  {
   "cell_type": "markdown",
   "metadata": {},
   "source": [
    "#### Traitement des données"
   ]
  },
  {
   "cell_type": "code",
   "execution_count": 139,
   "metadata": {},
   "outputs": [],
   "source": [
    "# dataframe = dataframe.drop_duplicates() # https://pandas.pydata.org/docs/reference/api/pandas.DataFrame.drop_duplicates.html\n",
    "dataframe.drop_duplicates(inplace=True)\n",
    "dataframe.drop_duplicates(subset=['Type','Coord_X','Coord_Y'],inplace=True) # Peut supprimer des entrées en trop dans la Category \"Autres\"\n",
    "dataframe.drop_duplicates(subset=['Nom','Adresse','Code postal','Type'],inplace=True)\n",
    "# dataframe"
   ]
  },
  {
   "cell_type": "code",
   "execution_count": 140,
   "metadata": {},
   "outputs": [],
   "source": [
    "# Gestion des points au même endroit TODO\n",
    "# dataframe.sort_values(by=['Coord_X', 'Coord_Y'])"
   ]
  },
  {
   "cell_type": "markdown",
   "metadata": {},
   "source": [
    "Filtre sur Lyon"
   ]
  },
  {
   "cell_type": "code",
   "execution_count": 141,
   "metadata": {},
   "outputs": [],
   "source": [
    "# Ajout d'une colonne \"Commune = Lyon\" avec des valeurs booléens  : True si la valeur de Commune est Lyon ef Nan sinon\n",
    "FiltreLyonmap = FiltreLyonMap.filtreLyon\n",
    "dataframe[\"IsLyon\"] = dataframe[\"Commune\"].map(FiltreLyonmap)\n",
    "# On supprime la colonne qui a été ajouté \"Commune=Lyon\"\n",
    "dataframe = dataframe[dataframe[\"IsLyon\"] == True].copy()\n",
    "dataframe = dataframe.drop(columns='IsLyon')\n",
    "# dataframe"
   ]
  },
  {
   "attachments": {},
   "cell_type": "markdown",
   "metadata": {},
   "source": [
    "Filtre lieux publics"
   ]
  },
  {
   "cell_type": "code",
   "execution_count": 142,
   "metadata": {},
   "outputs": [
    {
     "name": "stderr",
     "output_type": "stream",
     "text": [
      "C:\\Users\\Theo\\AppData\\Local\\Temp\\ipykernel_7468\\4294668227.py:2: UserWarning: This pattern is interpreted as a regular expression, and has match groups. To actually get the groups, use str.extract.\n",
      "  dataframe = dataframe.loc[~dataframe['Nom'].str.contains(r'(college|collège|lycée|lycee|ecole)', case=False, na=False)]\n"
     ]
    }
   ],
   "source": [
    "# On supprime les entrées contenant \"college\", \"lycee\", ...\n",
    "dataframe = dataframe.loc[~dataframe['Nom'].str.contains(r'(college|collège|lycée|lycee|ecole)', case=False, na=False)]\n",
    "# dataframe"
   ]
  },
  {
   "cell_type": "markdown",
   "metadata": {},
   "source": [
    "Catégorisation des sports"
   ]
  },
  {
   "cell_type": "code",
   "execution_count": 143,
   "metadata": {},
   "outputs": [],
   "source": [
    "category_map = CategoryMap.categories\n",
    "\n",
    "dataframe['Category'] = dataframe['Type'].map(category_map)"
   ]
  },
  {
   "cell_type": "code",
   "execution_count": 144,
   "metadata": {},
   "outputs": [],
   "source": [
    "# dataframe[\"Commune\"].unique()"
   ]
  },
  {
   "cell_type": "code",
   "execution_count": 145,
   "metadata": {},
   "outputs": [
    {
     "data": {
      "text/html": [
       "<div>\n",
       "<style scoped>\n",
       "    .dataframe tbody tr th:only-of-type {\n",
       "        vertical-align: middle;\n",
       "    }\n",
       "\n",
       "    .dataframe tbody tr th {\n",
       "        vertical-align: top;\n",
       "    }\n",
       "\n",
       "    .dataframe thead th {\n",
       "        text-align: right;\n",
       "    }\n",
       "</style>\n",
       "<table border=\"1\" class=\"dataframe\">\n",
       "  <thead>\n",
       "    <tr style=\"text-align: right;\">\n",
       "      <th></th>\n",
       "      <th>Nom</th>\n",
       "      <th>Commune</th>\n",
       "      <th>Adresse</th>\n",
       "      <th>Code postal</th>\n",
       "      <th>Type</th>\n",
       "      <th>Coord_X</th>\n",
       "      <th>Coord_Y</th>\n",
       "      <th>Category</th>\n",
       "    </tr>\n",
       "  </thead>\n",
       "  <tbody>\n",
       "    <tr>\n",
       "      <th>52</th>\n",
       "      <td>Parc de Parilly</td>\n",
       "      <td>Bron</td>\n",
       "      <td>36 Boulevard Emile Bollaert</td>\n",
       "      <td>69500</td>\n",
       "      <td>Stade d’athlétisme</td>\n",
       "      <td>4.894720</td>\n",
       "      <td>45.717990</td>\n",
       "      <td>Athlétisme</td>\n",
       "    </tr>\n",
       "    <tr>\n",
       "      <th>53</th>\n",
       "      <td>Parc de Parilly</td>\n",
       "      <td>Bron</td>\n",
       "      <td>36 Boulevard Emile Bollaert</td>\n",
       "      <td>69500</td>\n",
       "      <td>Terrain de football</td>\n",
       "      <td>4.897040</td>\n",
       "      <td>45.720450</td>\n",
       "      <td>FootBall</td>\n",
       "    </tr>\n",
       "    <tr>\n",
       "      <th>54</th>\n",
       "      <td>Parc de Parilly</td>\n",
       "      <td>Bron</td>\n",
       "      <td>36 Boulevard Emile Bollaert</td>\n",
       "      <td>69500</td>\n",
       "      <td>Terrain de basket-ball</td>\n",
       "      <td>4.895700</td>\n",
       "      <td>45.721680</td>\n",
       "      <td>BasketBall</td>\n",
       "    </tr>\n",
       "    <tr>\n",
       "      <th>57</th>\n",
       "      <td>7 Fitness</td>\n",
       "      <td>Bron</td>\n",
       "      <td>7 rue Salvador Allende</td>\n",
       "      <td>69500</td>\n",
       "      <td>Salle de cours collectifs</td>\n",
       "      <td>4.931818</td>\n",
       "      <td>45.743478</td>\n",
       "      <td>Salle de sport</td>\n",
       "    </tr>\n",
       "    <tr>\n",
       "      <th>58</th>\n",
       "      <td>Stade Léo Lagrange</td>\n",
       "      <td>Bron</td>\n",
       "      <td>rue Marcel Cerdan</td>\n",
       "      <td>69500</td>\n",
       "      <td>Terrain de football</td>\n",
       "      <td>4.925910</td>\n",
       "      <td>45.742140</td>\n",
       "      <td>FootBall</td>\n",
       "    </tr>\n",
       "    <tr>\n",
       "      <th>...</th>\n",
       "      <td>...</td>\n",
       "      <td>...</td>\n",
       "      <td>...</td>\n",
       "      <td>...</td>\n",
       "      <td>...</td>\n",
       "      <td>...</td>\n",
       "      <td>...</td>\n",
       "      <td>...</td>\n",
       "    </tr>\n",
       "    <tr>\n",
       "      <th>5990</th>\n",
       "      <td>Sale de remise en forme</td>\n",
       "      <td>Villeurbanne</td>\n",
       "      <td>1 rue de charny</td>\n",
       "      <td>69100</td>\n",
       "      <td>Salle de cours collectifs</td>\n",
       "      <td>4.889294</td>\n",
       "      <td>45.754860</td>\n",
       "      <td>Salle de sport</td>\n",
       "    </tr>\n",
       "    <tr>\n",
       "      <th>6758</th>\n",
       "      <td>Terrain basket-ball</td>\n",
       "      <td>Villeurbanne</td>\n",
       "      <td>rue lafontaine</td>\n",
       "      <td>69100</td>\n",
       "      <td>Terrain de basket-ball</td>\n",
       "      <td>4.880722</td>\n",
       "      <td>45.760173</td>\n",
       "      <td>BasketBall</td>\n",
       "    </tr>\n",
       "    <tr>\n",
       "      <th>7522</th>\n",
       "      <td>terrain de football</td>\n",
       "      <td>Lyon 9e Arrondissement</td>\n",
       "      <td>15 Quai de la gare d'eau</td>\n",
       "      <td>69009</td>\n",
       "      <td>Terrain de football</td>\n",
       "      <td>4.808480</td>\n",
       "      <td>45.780900</td>\n",
       "      <td>FootBall</td>\n",
       "    </tr>\n",
       "    <tr>\n",
       "      <th>8051</th>\n",
       "      <td>Salle de musculation</td>\n",
       "      <td>Villeurbanne</td>\n",
       "      <td>111 rue de verdun</td>\n",
       "      <td>69100</td>\n",
       "      <td>Salle d'haltérophilie</td>\n",
       "      <td>4.897147</td>\n",
       "      <td>45.778454</td>\n",
       "      <td>Salle de sport</td>\n",
       "    </tr>\n",
       "    <tr>\n",
       "      <th>8207</th>\n",
       "      <td>terrain de football 2</td>\n",
       "      <td>Lyon 9e Arrondissement</td>\n",
       "      <td>15 Quai de la gare d'eau</td>\n",
       "      <td>69009</td>\n",
       "      <td>Terrain de football</td>\n",
       "      <td>4.808150</td>\n",
       "      <td>45.781150</td>\n",
       "      <td>FootBall</td>\n",
       "    </tr>\n",
       "  </tbody>\n",
       "</table>\n",
       "<p>663 rows × 8 columns</p>\n",
       "</div>"
      ],
      "text/plain": [
       "                          Nom                 Commune  \\\n",
       "52            Parc de Parilly                    Bron   \n",
       "53            Parc de Parilly                    Bron   \n",
       "54            Parc de Parilly                    Bron   \n",
       "57                  7 Fitness                    Bron   \n",
       "58         Stade Léo Lagrange                    Bron   \n",
       "...                       ...                     ...   \n",
       "5990  Sale de remise en forme            Villeurbanne   \n",
       "6758      Terrain basket-ball            Villeurbanne   \n",
       "7522      terrain de football  Lyon 9e Arrondissement   \n",
       "8051     Salle de musculation            Villeurbanne   \n",
       "8207    terrain de football 2  Lyon 9e Arrondissement   \n",
       "\n",
       "                          Adresse Code postal                       Type  \\\n",
       "52    36 Boulevard Emile Bollaert       69500         Stade d’athlétisme   \n",
       "53    36 Boulevard Emile Bollaert       69500        Terrain de football   \n",
       "54    36 Boulevard Emile Bollaert       69500     Terrain de basket-ball   \n",
       "57         7 rue Salvador Allende       69500  Salle de cours collectifs   \n",
       "58              rue Marcel Cerdan       69500        Terrain de football   \n",
       "...                           ...         ...                        ...   \n",
       "5990              1 rue de charny       69100  Salle de cours collectifs   \n",
       "6758               rue lafontaine       69100     Terrain de basket-ball   \n",
       "7522     15 Quai de la gare d'eau       69009        Terrain de football   \n",
       "8051            111 rue de verdun       69100      Salle d'haltérophilie   \n",
       "8207     15 Quai de la gare d'eau       69009        Terrain de football   \n",
       "\n",
       "       Coord_X    Coord_Y        Category  \n",
       "52    4.894720  45.717990      Athlétisme  \n",
       "53    4.897040  45.720450        FootBall  \n",
       "54    4.895700  45.721680      BasketBall  \n",
       "57    4.931818  45.743478  Salle de sport  \n",
       "58    4.925910  45.742140        FootBall  \n",
       "...        ...        ...             ...  \n",
       "5990  4.889294  45.754860  Salle de sport  \n",
       "6758  4.880722  45.760173      BasketBall  \n",
       "7522  4.808480  45.780900        FootBall  \n",
       "8051  4.897147  45.778454  Salle de sport  \n",
       "8207  4.808150  45.781150        FootBall  \n",
       "\n",
       "[663 rows x 8 columns]"
      ]
     },
     "execution_count": 145,
     "metadata": {},
     "output_type": "execute_result"
    }
   ],
   "source": [
    "dataframe"
   ]
  },
  {
   "cell_type": "markdown",
   "metadata": {},
   "source": [
    "#### Export en csv"
   ]
  },
  {
   "cell_type": "code",
   "execution_count": 146,
   "metadata": {},
   "outputs": [],
   "source": [
    "dataframe.to_csv('activities.csv',sep=\";\")"
   ]
  },
  {
   "cell_type": "markdown",
   "metadata": {},
   "source": [
    "#### Export en GeoJSON"
   ]
  },
  {
   "cell_type": "code",
   "execution_count": 147,
   "metadata": {},
   "outputs": [],
   "source": [
    "# Dico python vide :\n",
    "GeoJson = {\n",
    "  \"type\": \"FeatureCollection\",\n",
    "  \"features\": []\n",
    "}"
   ]
  },
  {
   "cell_type": "code",
   "execution_count": 148,
   "metadata": {},
   "outputs": [],
   "source": [
    "# Alimentation des features\n",
    "for index, row in dataframe.iterrows():\n",
    "  feature = {\n",
    "    \"type\": \"Feature\",\n",
    "    \"properties\": {\n",
    "      \"Name\": row[\"Nom\"],\n",
    "      \"Commune\" : row[\"Commune\"],\n",
    "      \"Adresse\" : row[\"Adresse\"],\n",
    "      \"Code Postal\" : row[\"Code postal\"],\n",
    "      \"Type\" : row[\"Type\"],\n",
    "      \"Category\" : row[\"Category\"]\n",
    "    },\n",
    "    \"geometry\": {\n",
    "      \"coordinates\": [\n",
    "        row[\"Coord_X\"],\n",
    "        row[\"Coord_Y\"]\n",
    "      ],\n",
    "      \"type\": \"Point\"\n",
    "    }\n",
    "  }\n",
    "  \n",
    "  GeoJson[\"features\"].append(feature)\n"
   ]
  },
  {
   "cell_type": "code",
   "execution_count": 149,
   "metadata": {},
   "outputs": [],
   "source": [
    "# convertion en JSON:\n",
    "GeoJson = json.dumps(GeoJson)"
   ]
  },
  {
   "cell_type": "code",
   "execution_count": 150,
   "metadata": {},
   "outputs": [],
   "source": [
    "# Création du fichier \"GeoActivities.json\"\n",
    "with open(\"Activities.geojson\", \"w\") as outfile:\n",
    "    outfile.write(GeoJson)"
   ]
  }
 ],
 "metadata": {
  "kernelspec": {
   "display_name": "Python 3.8.13 ('M1')",
   "language": "python",
   "name": "python3"
  },
  "language_info": {
   "codemirror_mode": {
    "name": "ipython",
    "version": 3
   },
   "file_extension": ".py",
   "mimetype": "text/x-python",
   "name": "python",
   "nbconvert_exporter": "python",
   "pygments_lexer": "ipython3",
   "version": "3.8.13"
  },
  "orig_nbformat": 4,
  "vscode": {
   "interpreter": {
    "hash": "01d0daa3307f12ad9c360f278ba26079337094db4416f5f38ead2921bb0dd084"
   }
  }
 },
 "nbformat": 4,
 "nbformat_minor": 2
}
