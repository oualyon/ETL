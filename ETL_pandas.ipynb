{
 "cells": [
  {
   "cell_type": "markdown",
   "metadata": {},
   "source": [
    "# ETL OUALYON"
   ]
  },
  {
   "cell_type": "code",
   "execution_count": 159,
   "metadata": {},
   "outputs": [],
   "source": [
    "import pandas as pd\n",
    "import requests as rq\n",
    "import json\n",
    "import MapCategory as CategoryMap\n",
    "import MapFiltreLyon as FiltreLyonMap"
   ]
  },
  {
   "cell_type": "code",
   "execution_count": 160,
   "metadata": {},
   "outputs": [],
   "source": [
    "dataframe = pd.DataFrame(columns=['Nom', 'Commune', 'Type','Coord_X', 'Coord_Y'])"
   ]
  },
  {
   "cell_type": "markdown",
   "metadata": {},
   "source": [
    "#### Import de Sport Gouv"
   ]
  },
  {
   "cell_type": "code",
   "execution_count": 161,
   "metadata": {},
   "outputs": [],
   "source": [
    "response = rq.get(\"https://equipements.sports.gouv.fr/api/records/1.0/search/?dataset=data-es&q=&refine.code_dept=69&rows=10000\")\n",
    "data = response.json()\n",
    "for record in data['records']:\n",
    "    rc = record['fields']\n",
    "    dataframe.loc[len(dataframe.index)] = [rc['nominstallation'],rc['nom_commune'],rc['typequipement'],rc['coordgpsx'],rc['coordgpsy']]"
   ]
  },
  {
   "cell_type": "markdown",
   "metadata": {},
   "source": [
    "#### Import de Data Grand Lyon"
   ]
  },
  {
   "cell_type": "code",
   "execution_count": 162,
   "metadata": {},
   "outputs": [],
   "source": [
    "response = rq.get(\"https://download.data.grandlyon.com/ws/rdata/urbalyon.recenseqptsport/all.json?maxfeatures=10000&start=1\")\n",
    "data = response.json()\n",
    "for record in data['values']: \n",
    "    dataframe.loc[len(dataframe.index)] = [record['nom'],record['commune'],record['type'],record['lon'],record['lat']]"
   ]
  },
  {
   "cell_type": "code",
   "execution_count": 163,
   "metadata": {},
   "outputs": [],
   "source": [
    "# dataframe"
   ]
  },
  {
   "cell_type": "markdown",
   "metadata": {},
   "source": [
    "#### Traitement des données"
   ]
  },
  {
   "cell_type": "code",
   "execution_count": 164,
   "metadata": {},
   "outputs": [
    {
     "data": {
      "text/html": [
       "<div>\n",
       "<style scoped>\n",
       "    .dataframe tbody tr th:only-of-type {\n",
       "        vertical-align: middle;\n",
       "    }\n",
       "\n",
       "    .dataframe tbody tr th {\n",
       "        vertical-align: top;\n",
       "    }\n",
       "\n",
       "    .dataframe thead th {\n",
       "        text-align: right;\n",
       "    }\n",
       "</style>\n",
       "<table border=\"1\" class=\"dataframe\">\n",
       "  <thead>\n",
       "    <tr style=\"text-align: right;\">\n",
       "      <th></th>\n",
       "      <th>Nom</th>\n",
       "      <th>Commune</th>\n",
       "      <th>Type</th>\n",
       "      <th>Coord_X</th>\n",
       "      <th>Coord_Y</th>\n",
       "    </tr>\n",
       "  </thead>\n",
       "  <tbody>\n",
       "    <tr>\n",
       "      <th>0</th>\n",
       "      <td>Base de Loisirs</td>\n",
       "      <td>Aigueperse</td>\n",
       "      <td>Court de tennis</td>\n",
       "      <td>4.436730</td>\n",
       "      <td>46.277250</td>\n",
       "    </tr>\n",
       "    <tr>\n",
       "      <th>1</th>\n",
       "      <td>Salle des Fetes et Terrain de Jeu</td>\n",
       "      <td>Alix</td>\n",
       "      <td>Terrain de basket-ball</td>\n",
       "      <td>4.650480</td>\n",
       "      <td>45.914510</td>\n",
       "    </tr>\n",
       "    <tr>\n",
       "      <th>2</th>\n",
       "      <td>Collège Saint Viateur</td>\n",
       "      <td>Amplepuis</td>\n",
       "      <td>Terrain de basket-ball</td>\n",
       "      <td>4.330500</td>\n",
       "      <td>45.971400</td>\n",
       "    </tr>\n",
       "    <tr>\n",
       "      <th>3</th>\n",
       "      <td>Piscine Municipale</td>\n",
       "      <td>Amplepuis</td>\n",
       "      <td>Bassin sportif de natation</td>\n",
       "      <td>4.336410</td>\n",
       "      <td>45.979650</td>\n",
       "    </tr>\n",
       "    <tr>\n",
       "      <th>4</th>\n",
       "      <td>Salle de Gymnastique</td>\n",
       "      <td>Amplepuis</td>\n",
       "      <td>Salle de gymnastique sportive</td>\n",
       "      <td>4.312990</td>\n",
       "      <td>45.981010</td>\n",
       "    </tr>\n",
       "    <tr>\n",
       "      <th>...</th>\n",
       "      <td>...</td>\n",
       "      <td>...</td>\n",
       "      <td>...</td>\n",
       "      <td>...</td>\n",
       "      <td>...</td>\n",
       "    </tr>\n",
       "    <tr>\n",
       "      <th>8632</th>\n",
       "      <td>court de tennis municipaux 3</td>\n",
       "      <td>Givors</td>\n",
       "      <td>Court de tennis</td>\n",
       "      <td>4.770400</td>\n",
       "      <td>45.598930</td>\n",
       "    </tr>\n",
       "    <tr>\n",
       "      <th>8633</th>\n",
       "      <td>Terrain de football 11</td>\n",
       "      <td>Vénissieux</td>\n",
       "      <td>Terrain de football</td>\n",
       "      <td>4.896890</td>\n",
       "      <td>45.720730</td>\n",
       "    </tr>\n",
       "    <tr>\n",
       "      <th>8634</th>\n",
       "      <td>court de tennis municipaux 4</td>\n",
       "      <td>Givors</td>\n",
       "      <td>Court de tennis</td>\n",
       "      <td>4.770400</td>\n",
       "      <td>45.598930</td>\n",
       "    </tr>\n",
       "    <tr>\n",
       "      <th>8635</th>\n",
       "      <td>COURT DE TENNIS 2</td>\n",
       "      <td>Vénissieux</td>\n",
       "      <td>Court de tennis</td>\n",
       "      <td>4.894418</td>\n",
       "      <td>45.720817</td>\n",
       "    </tr>\n",
       "    <tr>\n",
       "      <th>8636</th>\n",
       "      <td>court de tennis (halle) 2</td>\n",
       "      <td>Givors</td>\n",
       "      <td>Court de tennis</td>\n",
       "      <td>4.771480</td>\n",
       "      <td>45.600890</td>\n",
       "    </tr>\n",
       "  </tbody>\n",
       "</table>\n",
       "<p>7473 rows × 5 columns</p>\n",
       "</div>"
      ],
      "text/plain": [
       "                                    Nom     Commune  \\\n",
       "0                       Base de Loisirs  Aigueperse   \n",
       "1     Salle des Fetes et Terrain de Jeu        Alix   \n",
       "2                 Collège Saint Viateur   Amplepuis   \n",
       "3                    Piscine Municipale   Amplepuis   \n",
       "4                  Salle de Gymnastique   Amplepuis   \n",
       "...                                 ...         ...   \n",
       "8632       court de tennis municipaux 3      Givors   \n",
       "8633             Terrain de football 11  Vénissieux   \n",
       "8634       court de tennis municipaux 4      Givors   \n",
       "8635                  COURT DE TENNIS 2  Vénissieux   \n",
       "8636          court de tennis (halle) 2      Givors   \n",
       "\n",
       "                               Type   Coord_X    Coord_Y  \n",
       "0                   Court de tennis  4.436730  46.277250  \n",
       "1            Terrain de basket-ball  4.650480  45.914510  \n",
       "2            Terrain de basket-ball  4.330500  45.971400  \n",
       "3        Bassin sportif de natation  4.336410  45.979650  \n",
       "4     Salle de gymnastique sportive  4.312990  45.981010  \n",
       "...                             ...       ...        ...  \n",
       "8632                Court de tennis  4.770400  45.598930  \n",
       "8633            Terrain de football  4.896890  45.720730  \n",
       "8634                Court de tennis  4.770400  45.598930  \n",
       "8635                Court de tennis  4.894418  45.720817  \n",
       "8636                Court de tennis  4.771480  45.600890  \n",
       "\n",
       "[7473 rows x 5 columns]"
      ]
     },
     "execution_count": 164,
     "metadata": {},
     "output_type": "execute_result"
    }
   ],
   "source": [
    "dataframe = dataframe.drop_duplicates() # https://pandas.pydata.org/docs/reference/api/pandas.DataFrame.drop_duplicates.html\n",
    "dataframe"
   ]
  },
  {
   "cell_type": "code",
   "execution_count": 165,
   "metadata": {},
   "outputs": [],
   "source": [
    "# dataframe[\"Commune\"].unique()"
   ]
  },
  {
   "cell_type": "markdown",
   "metadata": {},
   "source": [
    "Filtre sur Lyon"
   ]
  },
  {
   "cell_type": "code",
   "execution_count": 166,
   "metadata": {},
   "outputs": [
    {
     "data": {
      "text/html": [
       "<div>\n",
       "<style scoped>\n",
       "    .dataframe tbody tr th:only-of-type {\n",
       "        vertical-align: middle;\n",
       "    }\n",
       "\n",
       "    .dataframe tbody tr th {\n",
       "        vertical-align: top;\n",
       "    }\n",
       "\n",
       "    .dataframe thead th {\n",
       "        text-align: right;\n",
       "    }\n",
       "</style>\n",
       "<table border=\"1\" class=\"dataframe\">\n",
       "  <thead>\n",
       "    <tr style=\"text-align: right;\">\n",
       "      <th></th>\n",
       "      <th>Nom</th>\n",
       "      <th>Commune</th>\n",
       "      <th>Type</th>\n",
       "      <th>Coord_X</th>\n",
       "      <th>Coord_Y</th>\n",
       "      <th>IsLyon</th>\n",
       "    </tr>\n",
       "  </thead>\n",
       "  <tbody>\n",
       "    <tr>\n",
       "      <th>52</th>\n",
       "      <td>Parc de Parilly</td>\n",
       "      <td>Bron</td>\n",
       "      <td>Stade d’athlétisme</td>\n",
       "      <td>4.894720</td>\n",
       "      <td>45.717990</td>\n",
       "      <td>True</td>\n",
       "    </tr>\n",
       "    <tr>\n",
       "      <th>53</th>\n",
       "      <td>Parc de Parilly</td>\n",
       "      <td>Bron</td>\n",
       "      <td>Terrain de football</td>\n",
       "      <td>4.897040</td>\n",
       "      <td>45.720450</td>\n",
       "      <td>True</td>\n",
       "    </tr>\n",
       "    <tr>\n",
       "      <th>54</th>\n",
       "      <td>Parc de Parilly</td>\n",
       "      <td>Bron</td>\n",
       "      <td>Terrain de basket-ball</td>\n",
       "      <td>4.895700</td>\n",
       "      <td>45.721680</td>\n",
       "      <td>True</td>\n",
       "    </tr>\n",
       "    <tr>\n",
       "      <th>57</th>\n",
       "      <td>7 Fitness</td>\n",
       "      <td>Bron</td>\n",
       "      <td>Salle de cours collectifs</td>\n",
       "      <td>4.931818</td>\n",
       "      <td>45.743478</td>\n",
       "      <td>True</td>\n",
       "    </tr>\n",
       "    <tr>\n",
       "      <th>58</th>\n",
       "      <td>Stade Léo Lagrange</td>\n",
       "      <td>Bron</td>\n",
       "      <td>Terrain de football</td>\n",
       "      <td>4.925910</td>\n",
       "      <td>45.742140</td>\n",
       "      <td>True</td>\n",
       "    </tr>\n",
       "    <tr>\n",
       "      <th>...</th>\n",
       "      <td>...</td>\n",
       "      <td>...</td>\n",
       "      <td>...</td>\n",
       "      <td>...</td>\n",
       "      <td>...</td>\n",
       "      <td>...</td>\n",
       "    </tr>\n",
       "    <tr>\n",
       "      <th>8616</th>\n",
       "      <td>Palteaux EPS 2</td>\n",
       "      <td>Bron</td>\n",
       "      <td>Plateau EPS/Multisports/city-stades</td>\n",
       "      <td>4.896690</td>\n",
       "      <td>45.721740</td>\n",
       "      <td>True</td>\n",
       "    </tr>\n",
       "    <tr>\n",
       "      <th>8620</th>\n",
       "      <td>Courts extérieurs en green set 2</td>\n",
       "      <td>Villeurbanne</td>\n",
       "      <td>Court de tennis</td>\n",
       "      <td>4.860310</td>\n",
       "      <td>45.781230</td>\n",
       "      <td>True</td>\n",
       "    </tr>\n",
       "    <tr>\n",
       "      <th>8621</th>\n",
       "      <td>Palteaux EPS 3</td>\n",
       "      <td>Bron</td>\n",
       "      <td>Plateau EPS/Multisports/city-stades</td>\n",
       "      <td>4.896690</td>\n",
       "      <td>45.721740</td>\n",
       "      <td>True</td>\n",
       "    </tr>\n",
       "    <tr>\n",
       "      <th>8624</th>\n",
       "      <td>Courts extérieurs en green set 3</td>\n",
       "      <td>Villeurbanne</td>\n",
       "      <td>Court de tennis</td>\n",
       "      <td>4.860310</td>\n",
       "      <td>45.781230</td>\n",
       "      <td>True</td>\n",
       "    </tr>\n",
       "    <tr>\n",
       "      <th>8627</th>\n",
       "      <td>Courts extérieurs en green set 4</td>\n",
       "      <td>Villeurbanne</td>\n",
       "      <td>Court de tennis</td>\n",
       "      <td>4.860310</td>\n",
       "      <td>45.781230</td>\n",
       "      <td>True</td>\n",
       "    </tr>\n",
       "  </tbody>\n",
       "</table>\n",
       "<p>2263 rows × 6 columns</p>\n",
       "</div>"
      ],
      "text/plain": [
       "                                   Nom       Commune  \\\n",
       "52                     Parc de Parilly          Bron   \n",
       "53                     Parc de Parilly          Bron   \n",
       "54                     Parc de Parilly          Bron   \n",
       "57                           7 Fitness          Bron   \n",
       "58                  Stade Léo Lagrange          Bron   \n",
       "...                                ...           ...   \n",
       "8616                    Palteaux EPS 2          Bron   \n",
       "8620  Courts extérieurs en green set 2  Villeurbanne   \n",
       "8621                    Palteaux EPS 3          Bron   \n",
       "8624  Courts extérieurs en green set 3  Villeurbanne   \n",
       "8627  Courts extérieurs en green set 4  Villeurbanne   \n",
       "\n",
       "                                     Type   Coord_X    Coord_Y IsLyon  \n",
       "52                     Stade d’athlétisme  4.894720  45.717990   True  \n",
       "53                    Terrain de football  4.897040  45.720450   True  \n",
       "54                 Terrain de basket-ball  4.895700  45.721680   True  \n",
       "57              Salle de cours collectifs  4.931818  45.743478   True  \n",
       "58                    Terrain de football  4.925910  45.742140   True  \n",
       "...                                   ...       ...        ...    ...  \n",
       "8616  Plateau EPS/Multisports/city-stades  4.896690  45.721740   True  \n",
       "8620                      Court de tennis  4.860310  45.781230   True  \n",
       "8621  Plateau EPS/Multisports/city-stades  4.896690  45.721740   True  \n",
       "8624                      Court de tennis  4.860310  45.781230   True  \n",
       "8627                      Court de tennis  4.860310  45.781230   True  \n",
       "\n",
       "[2263 rows x 6 columns]"
      ]
     },
     "execution_count": 166,
     "metadata": {},
     "output_type": "execute_result"
    }
   ],
   "source": [
    "# Ajout d'une colonne \"Commune = Lyon\" avec des valeurs booléens  : True si la valeur de Commune est Lyon ef Nan sinon\n",
    "FiltreLyonmap = FiltreLyonMap.filtreLyon\n",
    "dataframe[\"IsLyon\"] = dataframe[\"Commune\"].map(FiltreLyonmap)\n",
    "# On supprime la colonne qui a été ajouté \"Commune=Lyon\"\n",
    "dataframe = dataframe[dataframe[\"IsLyon\"] == True].copy()\n",
    "dataframe.drop(columns='IsLyon')\n",
    "dataframe"
   ]
  },
  {
   "cell_type": "markdown",
   "metadata": {},
   "source": [
    "Catégorisation des sports"
   ]
  },
  {
   "cell_type": "code",
   "execution_count": 167,
   "metadata": {},
   "outputs": [],
   "source": [
    "category_map = CategoryMap.categories\n",
    "\n",
    "dataframe['Category'] = dataframe['Type'].map(category_map)"
   ]
  },
  {
   "cell_type": "code",
   "execution_count": 168,
   "metadata": {},
   "outputs": [],
   "source": [
    "# dataframe[\"Commune\"].unique()"
   ]
  },
  {
   "cell_type": "markdown",
   "metadata": {},
   "source": [
    "#### Export en csv"
   ]
  },
  {
   "cell_type": "code",
   "execution_count": 169,
   "metadata": {},
   "outputs": [],
   "source": [
    "dataframe.to_csv('activities.csv',sep=\";\")"
   ]
  },
  {
   "cell_type": "markdown",
   "metadata": {},
   "source": [
    "#### Export en GeoJSON"
   ]
  },
  {
   "cell_type": "code",
   "execution_count": 170,
   "metadata": {},
   "outputs": [],
   "source": [
    "# Dico python vide :\n",
    "GeoJson = {\n",
    "  \"type\": \"FeatureCollection\",\n",
    "  \"features\": []\n",
    "}"
   ]
  },
  {
   "cell_type": "code",
   "execution_count": 171,
   "metadata": {},
   "outputs": [],
   "source": [
    "# Alimentation des features\n",
    "for index, row in dataframe.iterrows():\n",
    "  feature = {\n",
    "    \"type\": \"Feature\",\n",
    "    \"properties\": {\n",
    "      \"Name\": row[\"Nom\"],\n",
    "      \"Commune\" : row[\"Commune\"],\n",
    "      \"Type\" : row[\"Type\"]\n",
    "    },\n",
    "    \"geometry\": {\n",
    "      \"coordinates\": [\n",
    "        row[\"Coord_X\"],\n",
    "        row[\"Coord_Y\"]\n",
    "      ],\n",
    "      \"type\": \"Point\"\n",
    "    }\n",
    "  }\n",
    "  \n",
    "  GeoJson[\"features\"].append(feature)\n"
   ]
  },
  {
   "cell_type": "code",
   "execution_count": 172,
   "metadata": {},
   "outputs": [],
   "source": [
    "# convertion en JSON:\n",
    "GeoJson = json.dumps(GeoJson)"
   ]
  },
  {
   "cell_type": "code",
   "execution_count": 173,
   "metadata": {},
   "outputs": [],
   "source": [
    "# Création du fichier \"GeoActivities.json\"\n",
    "with open(\"GeoActivities.json\", \"w\") as outfile:\n",
    "    outfile.write(GeoJson)"
   ]
  }
 ],
 "metadata": {
  "kernelspec": {
   "display_name": "Python 3.8.13 ('M1')",
   "language": "python",
   "name": "python3"
  },
  "language_info": {
   "codemirror_mode": {
    "name": "ipython",
    "version": 3
   },
   "file_extension": ".py",
   "mimetype": "text/x-python",
   "name": "python",
   "nbconvert_exporter": "python",
   "pygments_lexer": "ipython3",
   "version": "3.8.13"
  },
  "orig_nbformat": 4,
  "vscode": {
   "interpreter": {
    "hash": "01d0daa3307f12ad9c360f278ba26079337094db4416f5f38ead2921bb0dd084"
   }
  }
 },
 "nbformat": 4,
 "nbformat_minor": 2
}
