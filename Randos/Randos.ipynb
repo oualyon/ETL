{
 "cells": [
  {
   "attachments": {},
   "cell_type": "markdown",
   "metadata": {},
   "source": [
    "### ETL RANDOS OUALYON"
   ]
  },
  {
   "cell_type": "code",
   "execution_count": null,
   "metadata": {},
   "outputs": [],
   "source": [
    "# Imports\n",
    "import pandas as pd\n",
    "import requests as rq\n",
    "import json"
   ]
  },
  {
   "cell_type": "code",
   "execution_count": null,
   "metadata": {},
   "outputs": [],
   "source": [
    "# Création du DataFrame\n",
    "dataframe = pd.DataFrame(columns=['Nom', 'Commune départ', 'Longueur','Coord_X', 'Coord_Y', 'durée','difficulte','denivele'])"
   ]
  },
  {
   "cell_type": "code",
   "execution_count": null,
   "metadata": {},
   "outputs": [],
   "source": [
    "# Requete à l'API du gouvernement\n",
    "response = rq.get(\"https://download.data.grandlyon.com/ws/grandlyon/evg_esp_veg.envpdiprboucle/all.json?maxfeatures=-1&start=1\")\n",
    "data = response.json()\n",
    "for rc in data['values']:\n",
    "    dataframe.loc[len(dataframe.index)] = [rc['nom'],rc['commune_depart'],rc['longueur'],rc['xdepart'],rc['ydepart'],rc['temps_parcours'],rc['difficulte'],rc['denivele']]"
   ]
  },
  {
   "cell_type": "code",
   "execution_count": null,
   "metadata": {},
   "outputs": [],
   "source": [
    "dataframe"
   ]
  },
  {
   "attachments": {},
   "cell_type": "markdown",
   "metadata": {},
   "source": [
    "Export en CSV"
   ]
  },
  {
   "cell_type": "code",
   "execution_count": null,
   "metadata": {},
   "outputs": [],
   "source": [
    "dataframe.to_csv(\"Randos.csv\", sep=';')"
   ]
  }
 ],
 "metadata": {
  "kernelspec": {
   "display_name": "M1",
   "language": "python",
   "name": "python3"
  },
  "language_info": {
   "name": "python",
   "version": "3.8.13"
  },
  "orig_nbformat": 4,
  "vscode": {
   "interpreter": {
    "hash": "01d0daa3307f12ad9c360f278ba26079337094db4416f5f38ead2921bb0dd084"
   }
  }
 },
 "nbformat": 4,
 "nbformat_minor": 2
}
